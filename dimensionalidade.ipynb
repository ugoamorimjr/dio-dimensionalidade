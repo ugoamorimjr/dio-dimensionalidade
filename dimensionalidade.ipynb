{
  "nbformat": 4,
  "nbformat_minor": 0,
  "metadata": {
    "colab": {
      "provenance": []
    },
    "kernelspec": {
      "name": "python3",
      "display_name": "Python 3"
    },
    "language_info": {
      "name": "python"
    }
  },
  "cells": [
    {
      "cell_type": "code",
      "execution_count": 1,
      "metadata": {
        "id": "OEcF7vPSDWTn",
        "colab": {
          "base_uri": "https://localhost:8080/"
        },
        "outputId": "c0ff907f-8821-4784-e5d6-7c9da9cea700"
      },
      "outputs": [
        {
          "output_type": "stream",
          "name": "stdout",
          "text": [
            "fim do programa\n"
          ]
        }
      ],
      "source": [
        "#reduzir dimensionalidade - tons de cinza + preto e branco\n",
        "from PIL import Image\n",
        "import os\n",
        "\n",
        "#funcao para tratar a imagem com escala de cinza\n",
        "def escalacinza(colored):\n",
        "  w, h = colored.size\n",
        "  img = Image.new(\"RGB\", (w, h))\n",
        "  for x in range(w):\n",
        "    for y in range(h):\n",
        "      r, g, b = colored.getpixel((x,y))\n",
        "      #pesos das cores para obter tons de cinza - obtidos da weekpedia\n",
        "      lum = int(0.3*r + 0.59*g + 0.11*b)\n",
        "      img.putpixel((x,y), (lum, lum, lum))\n",
        "  return img\n",
        "\n",
        "#funcao para converter a imagem para preto e branco\n",
        "def binarizar(cinza):\n",
        "  limiar = 127  #valor padrão\n",
        "  w, h = cinza.size\n",
        "  img = Image.new(\"RGB\", (w, h))\n",
        "  for x in range(w):\n",
        "    for y in range(h):\n",
        "      r, g, b = cinza.getpixel((x, y))\n",
        "      lum = int((r + g + b) /3)\n",
        "      if lum > limiar:\n",
        "        valor_binario = 255\n",
        "      else:\n",
        "        valor_binario = 0\n",
        "      img.putpixel((x, y), (valor_binario, valor_binario, valor_binario))\n",
        "  return img\n",
        "\n",
        "img = Image.open('/content/drive/MyDrive/Imagem-bandeira/grafite-prc-maua.jpeg')\n",
        "#print(img.getpixel((20,20)))\n",
        "#print(img.getpixel((100,90)))\n",
        "#print(img.getpixel((150,150)))\n",
        "\n",
        "img_cinza = escalacinza(img)\n",
        "\n",
        "img_cinza.save('/content/drive/MyDrive/Imagem-bandeira/grafite-prc-maua-cinza.jpeg')\n",
        "\n",
        "img_pb = binarizar(img_cinza)\n",
        "\n",
        "img_pb.save('/content/drive/MyDrive/Imagem-bandeira/grafite-prc-maua-pb.jpeg')\n",
        "\n",
        "print(\"fim do programa\")\n"
      ]
    },
    {
      "cell_type": "markdown",
      "source": [],
      "metadata": {
        "id": "zdCNQVtoNKp3"
      }
    }
  ]
}